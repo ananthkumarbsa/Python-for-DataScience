{
 "cells": [
  {
   "cell_type": "markdown",
   "id": "b94fc3bd",
   "metadata": {},
   "source": [
    "# Map Function in Python\n",
    "\n",
    "Make an iterator that computes the function using arguments from\n",
    "each of the iterables.  Stops when the shortest iterable is exhausted."
   ]
  },
  {
   "cell_type": "code",
   "execution_count": 1,
   "id": "fd7de09f",
   "metadata": {},
   "outputs": [],
   "source": [
    "def even_or_odd(num):\n",
    "    if num%2==0:\n",
    "        return \"The number {} is Even\".format(num)\n",
    "    else:\n",
    "        return \"The number {} is odd\".format(num)"
   ]
  },
  {
   "cell_type": "code",
   "execution_count": 2,
   "id": "019b4621",
   "metadata": {},
   "outputs": [
    {
     "data": {
      "text/plain": [
       "'The number 88 is Even'"
      ]
     },
     "execution_count": 2,
     "metadata": {},
     "output_type": "execute_result"
    }
   ],
   "source": [
    "even_or_odd(88)"
   ]
  },
  {
   "cell_type": "code",
   "execution_count": 3,
   "id": "41a059ad",
   "metadata": {},
   "outputs": [],
   "source": [
    "lst=[2,3,41,4,21,5,75,1,6,9,23] # if we want to apply the same fucntion for multiple numbers then we need to write for loop and execute it instead we can use map function "
   ]
  },
  {
   "cell_type": "code",
   "execution_count": 4,
   "id": "ed60d8c3",
   "metadata": {},
   "outputs": [
    {
     "data": {
      "text/plain": [
       "<map at 0x1d21549d9a0>"
      ]
     },
     "execution_count": 4,
     "metadata": {},
     "output_type": "execute_result"
    }
   ],
   "source": [
    "map(even_or_odd,lst)"
   ]
  },
  {
   "cell_type": "code",
   "execution_count": 5,
   "id": "70594655",
   "metadata": {},
   "outputs": [
    {
     "name": "stdout",
     "output_type": "stream",
     "text": [
      "<map object at 0x000001D214130700>\n"
     ]
    }
   ],
   "source": [
    "print(map(even_or_odd,lst))"
   ]
  },
  {
   "cell_type": "code",
   "execution_count": 6,
   "id": "af8c75a5",
   "metadata": {},
   "outputs": [
    {
     "data": {
      "text/plain": [
       "['The number 2 is Even',\n",
       " 'The number 3 is odd',\n",
       " 'The number 41 is odd',\n",
       " 'The number 4 is Even',\n",
       " 'The number 21 is odd',\n",
       " 'The number 5 is odd',\n",
       " 'The number 75 is odd',\n",
       " 'The number 1 is odd',\n",
       " 'The number 6 is Even',\n",
       " 'The number 9 is odd',\n",
       " 'The number 23 is odd']"
      ]
     },
     "execution_count": 6,
     "metadata": {},
     "output_type": "execute_result"
    }
   ],
   "source": [
    "list(map(even_or_odd,lst))"
   ]
  },
  {
   "cell_type": "code",
   "execution_count": null,
   "id": "2f54dfb3",
   "metadata": {},
   "outputs": [],
   "source": []
  }
 ],
 "metadata": {
  "kernelspec": {
   "display_name": "Python 3 (ipykernel)",
   "language": "python",
   "name": "python3"
  },
  "language_info": {
   "codemirror_mode": {
    "name": "ipython",
    "version": 3
   },
   "file_extension": ".py",
   "mimetype": "text/x-python",
   "name": "python",
   "nbconvert_exporter": "python",
   "pygments_lexer": "ipython3",
   "version": "3.9.12"
  }
 },
 "nbformat": 4,
 "nbformat_minor": 5
}
