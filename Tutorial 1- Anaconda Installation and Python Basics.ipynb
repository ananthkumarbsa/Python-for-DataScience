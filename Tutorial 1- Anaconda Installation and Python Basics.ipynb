{
 "cells": [
  {
   "cell_type": "markdown",
   "id": "9a766abc",
   "metadata": {},
   "source": [
    "# Basics of Python\n",
    "    In this video will discuss about \n",
    "   - Various data types in Python\n",
    "   - Variable\n",
    "   - Variable Assignment\n",
    "   - print formatting"
   ]
  },
  {
   "cell_type": "markdown",
   "id": "fbf6305d",
   "metadata": {},
   "source": [
    "# Various Datatypes in Python\n",
    "\n",
    "## Numbers"
   ]
  },
  {
   "cell_type": "code",
   "execution_count": 1,
   "id": "3f8a1317",
   "metadata": {},
   "outputs": [
    {
     "data": {
      "text/plain": [
       "2"
      ]
     },
     "execution_count": 1,
     "metadata": {},
     "output_type": "execute_result"
    }
   ],
   "source": [
    "1+1"
   ]
  },
  {
   "cell_type": "code",
   "execution_count": 2,
   "id": "276dfeb7",
   "metadata": {},
   "outputs": [
    {
     "data": {
      "text/plain": [
       "20"
      ]
     },
     "execution_count": 2,
     "metadata": {},
     "output_type": "execute_result"
    }
   ],
   "source": [
    "4*5"
   ]
  },
  {
   "cell_type": "code",
   "execution_count": 3,
   "id": "f74aecd2",
   "metadata": {},
   "outputs": [
    {
     "data": {
      "text/plain": [
       "20"
      ]
     },
     "execution_count": 3,
     "metadata": {},
     "output_type": "execute_result"
    }
   ],
   "source": [
    "2*10"
   ]
  },
  {
   "cell_type": "code",
   "execution_count": 4,
   "id": "9aaa1f84",
   "metadata": {},
   "outputs": [
    {
     "data": {
      "text/plain": [
       "5.0"
      ]
     },
     "execution_count": 4,
     "metadata": {},
     "output_type": "execute_result"
    }
   ],
   "source": [
    "10/2"
   ]
  },
  {
   "cell_type": "code",
   "execution_count": 5,
   "id": "3ada04dc",
   "metadata": {},
   "outputs": [
    {
     "data": {
      "text/plain": [
       "0"
      ]
     },
     "execution_count": 5,
     "metadata": {},
     "output_type": "execute_result"
    }
   ],
   "source": [
    "10%2"
   ]
  },
  {
   "cell_type": "code",
   "execution_count": 6,
   "id": "d0c1159d",
   "metadata": {},
   "outputs": [
    {
     "data": {
      "text/plain": [
       "100"
      ]
     },
     "execution_count": 6,
     "metadata": {},
     "output_type": "execute_result"
    }
   ],
   "source": [
    "10**2"
   ]
  },
  {
   "cell_type": "code",
   "execution_count": 8,
   "id": "40ea5ad0",
   "metadata": {},
   "outputs": [
    {
     "data": {
      "text/plain": [
       "'str str str str str str str str str str '"
      ]
     },
     "execution_count": 8,
     "metadata": {},
     "output_type": "execute_result"
    }
   ],
   "source": [
    "10*'str '"
   ]
  },
  {
   "cell_type": "markdown",
   "id": "17ab5a6e",
   "metadata": {},
   "source": [
    "## Check the datatype"
   ]
  },
  {
   "cell_type": "code",
   "execution_count": 9,
   "id": "c59497dc",
   "metadata": {},
   "outputs": [
    {
     "data": {
      "text/plain": [
       "int"
      ]
     },
     "execution_count": 9,
     "metadata": {},
     "output_type": "execute_result"
    }
   ],
   "source": [
    "type(1)"
   ]
  },
  {
   "cell_type": "code",
   "execution_count": 10,
   "id": "91c1f6e8",
   "metadata": {},
   "outputs": [
    {
     "data": {
      "text/plain": [
       "str"
      ]
     },
     "execution_count": 10,
     "metadata": {},
     "output_type": "execute_result"
    }
   ],
   "source": [
    "type('Hello')"
   ]
  },
  {
   "cell_type": "code",
   "execution_count": 11,
   "id": "459fd0fe",
   "metadata": {},
   "outputs": [
    {
     "data": {
      "text/plain": [
       "float"
      ]
     },
     "execution_count": 11,
     "metadata": {},
     "output_type": "execute_result"
    }
   ],
   "source": [
    "type(10.0)"
   ]
  },
  {
   "cell_type": "code",
   "execution_count": 13,
   "id": "148aeba9",
   "metadata": {},
   "outputs": [
    {
     "data": {
      "text/plain": [
       "bool"
      ]
     },
     "execution_count": 13,
     "metadata": {},
     "output_type": "execute_result"
    }
   ],
   "source": [
    "type(True)"
   ]
  },
  {
   "cell_type": "markdown",
   "id": "eea2f1ee",
   "metadata": {},
   "source": [
    "## True False Int float bool are some reserved keywords inside python "
   ]
  },
  {
   "cell_type": "markdown",
   "id": "1f35ea14",
   "metadata": {},
   "source": [
    "# Strings"
   ]
  },
  {
   "cell_type": "code",
   "execution_count": 14,
   "id": "7bf9505a",
   "metadata": {},
   "outputs": [
    {
     "data": {
      "text/plain": [
       "'Hello'"
      ]
     },
     "execution_count": 14,
     "metadata": {},
     "output_type": "execute_result"
    }
   ],
   "source": [
    "\"Hello\""
   ]
  },
  {
   "cell_type": "code",
   "execution_count": 15,
   "id": "82c188e0",
   "metadata": {},
   "outputs": [
    {
     "data": {
      "text/plain": [
       "'Krish Naik'"
      ]
     },
     "execution_count": 15,
     "metadata": {},
     "output_type": "execute_result"
    }
   ],
   "source": [
    "'Krish Naik'"
   ]
  },
  {
   "cell_type": "code",
   "execution_count": 16,
   "id": "1f58ec4a",
   "metadata": {},
   "outputs": [
    {
     "data": {
      "text/plain": [
       "str"
      ]
     },
     "execution_count": 16,
     "metadata": {},
     "output_type": "execute_result"
    }
   ],
   "source": [
    "type('Krish Naik')"
   ]
  },
  {
   "cell_type": "code",
   "execution_count": 17,
   "id": "cf6b89ad",
   "metadata": {},
   "outputs": [
    {
     "data": {
      "text/plain": [
       "str"
      ]
     },
     "execution_count": 17,
     "metadata": {},
     "output_type": "execute_result"
    }
   ],
   "source": [
    "type(\"Hello\")"
   ]
  },
  {
   "cell_type": "markdown",
   "id": "e2ed7227",
   "metadata": {},
   "source": [
    "# Variable Assignment"
   ]
  },
  {
   "cell_type": "code",
   "execution_count": 23,
   "id": "fdde2194",
   "metadata": {},
   "outputs": [],
   "source": [
    "# Syntax\n",
    "# Variable_name=values\n",
    "a=10\n",
    "#we don't have to mention like int a = 10"
   ]
  },
  {
   "cell_type": "code",
   "execution_count": 24,
   "id": "4682404d",
   "metadata": {},
   "outputs": [
    {
     "data": {
      "text/plain": [
       "int"
      ]
     },
     "execution_count": 24,
     "metadata": {},
     "output_type": "execute_result"
    }
   ],
   "source": [
    "type(a)"
   ]
  },
  {
   "cell_type": "code",
   "execution_count": 25,
   "id": "63c26df3",
   "metadata": {},
   "outputs": [],
   "source": [
    "a='Krish Naik'"
   ]
  },
  {
   "cell_type": "code",
   "execution_count": 26,
   "id": "1081ebf6",
   "metadata": {},
   "outputs": [
    {
     "data": {
      "text/plain": [
       "str"
      ]
     },
     "execution_count": 26,
     "metadata": {},
     "output_type": "execute_result"
    }
   ],
   "source": [
    "type(a)"
   ]
  },
  {
   "cell_type": "code",
   "execution_count": 27,
   "id": "250c0574",
   "metadata": {},
   "outputs": [],
   "source": [
    "# Mathematical operation with variable assignment\n",
    "a=10\n",
    "b=20"
   ]
  },
  {
   "cell_type": "code",
   "execution_count": 28,
   "id": "dff9ca75",
   "metadata": {},
   "outputs": [
    {
     "name": "stdout",
     "output_type": "stream",
     "text": [
      "200\n",
      "0.5\n",
      "10\n",
      "200.5\n"
     ]
    }
   ],
   "source": [
    "print(a*b)\n",
    "print(a/b)\n",
    "print(a%b)\n",
    "print((a*b)+(a/b))#BODMAS"
   ]
  },
  {
   "cell_type": "markdown",
   "id": "084eb099",
   "metadata": {},
   "source": [
    "# various ways of printing"
   ]
  },
  {
   "cell_type": "code",
   "execution_count": 32,
   "id": "fd08a0e8",
   "metadata": {},
   "outputs": [
    {
     "name": "stdout",
     "output_type": "stream",
     "text": [
      "Hello\n"
     ]
    }
   ],
   "source": [
    "print(\"Hello\")\n",
    "#If you want to see the inbuilt function sytax , place the cursor in the function and press \"Shift\" + \"Tab\""
   ]
  },
  {
   "cell_type": "code",
   "execution_count": 33,
   "id": "ad8a25a9",
   "metadata": {},
   "outputs": [],
   "source": [
    "firstname='Krish'\n",
    "lastname='Naik'"
   ]
  },
  {
   "cell_type": "code",
   "execution_count": 34,
   "id": "cf1b96f0",
   "metadata": {},
   "outputs": [
    {
     "name": "stdout",
     "output_type": "stream",
     "text": [
      "My first name is Krish and last name is Naik\n"
     ]
    }
   ],
   "source": [
    "print(\"My first name is {} and last name is {}\".format(firstname,lastname))"
   ]
  },
  {
   "cell_type": "code",
   "execution_count": 35,
   "id": "90802f91",
   "metadata": {},
   "outputs": [
    {
     "name": "stdout",
     "output_type": "stream",
     "text": [
      "My first name is Naik and last name is Krish\n"
     ]
    }
   ],
   "source": [
    "print(\"My first name is {} and last name is {}\".format(lastname,firstname))"
   ]
  },
  {
   "cell_type": "code",
   "execution_count": 36,
   "id": "3601aa1d",
   "metadata": {},
   "outputs": [
    {
     "name": "stdout",
     "output_type": "stream",
     "text": [
      "My first name is Krish and last name is Naik\n"
     ]
    }
   ],
   "source": [
    "print(\"My first name is {first} and last name is {last}\".format(first=firstname,last=lastname))"
   ]
  },
  {
   "cell_type": "code",
   "execution_count": 37,
   "id": "24b00460",
   "metadata": {},
   "outputs": [
    {
     "name": "stdout",
     "output_type": "stream",
     "text": [
      "My first name is Naik and last name is Krish\n"
     ]
    }
   ],
   "source": [
    "print(\"My first name is {last} and last name is {first}\".format(first=firstname,last=lastname))"
   ]
  },
  {
   "cell_type": "code",
   "execution_count": 38,
   "id": "662666e9",
   "metadata": {},
   "outputs": [
    {
     "data": {
      "text/plain": [
       "5"
      ]
     },
     "execution_count": 38,
     "metadata": {},
     "output_type": "execute_result"
    }
   ],
   "source": [
    "len('Krish')"
   ]
  },
  {
   "cell_type": "code",
   "execution_count": 39,
   "id": "35663d15",
   "metadata": {},
   "outputs": [
    {
     "data": {
      "text/plain": [
       "list"
      ]
     },
     "execution_count": 39,
     "metadata": {},
     "output_type": "execute_result"
    }
   ],
   "source": [
    "type(['1',2,3,4,5])"
   ]
  },
  {
   "cell_type": "code",
   "execution_count": null,
   "id": "fa22eee3",
   "metadata": {},
   "outputs": [],
   "source": []
  }
 ],
 "metadata": {
  "kernelspec": {
   "display_name": "Python 3 (ipykernel)",
   "language": "python",
   "name": "python3"
  },
  "language_info": {
   "codemirror_mode": {
    "name": "ipython",
    "version": 3
   },
   "file_extension": ".py",
   "mimetype": "text/x-python",
   "name": "python",
   "nbconvert_exporter": "python",
   "pygments_lexer": "ipython3",
   "version": "3.9.12"
  }
 },
 "nbformat": 4,
 "nbformat_minor": 5
}
