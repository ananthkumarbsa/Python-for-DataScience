{
 "cells": [
  {
   "cell_type": "markdown",
   "id": "5905ddbe",
   "metadata": {},
   "source": [
    "# Functions in Pythons\n",
    "\n",
    "   - why Functions\n",
    "   - Functions Defintion\n",
    "   - Positional and Keyword Arguments in Functions"
   ]
  },
  {
   "cell_type": "markdown",
   "id": "5eb85675",
   "metadata": {},
   "source": [
    "we need to write some line of common code and those codes are used in various parts of the application. we can write that code in some function and reuse it wherever we requires"
   ]
  },
  {
   "cell_type": "code",
   "execution_count": 2,
   "id": "1d5be81c",
   "metadata": {},
   "outputs": [
    {
     "name": "stdout",
     "output_type": "stream",
     "text": [
      "The number is Even\n"
     ]
    }
   ],
   "source": [
    "num =24\n",
    "\n",
    "if num%2==0:\n",
    "    print('The number is Even')\n",
    "else:\n",
    "    print('The number is odd')"
   ]
  },
  {
   "cell_type": "code",
   "execution_count": 3,
   "id": "3acae62c",
   "metadata": {},
   "outputs": [],
   "source": [
    "def even_odd(num):\n",
    "    if num%2==0:\n",
    "        print('The number is Even')\n",
    "    else:\n",
    "        print('The number is odd')"
   ]
  },
  {
   "cell_type": "code",
   "execution_count": 4,
   "id": "8cbb8319",
   "metadata": {},
   "outputs": [
    {
     "name": "stdout",
     "output_type": "stream",
     "text": [
      "The number is odd\n"
     ]
    }
   ],
   "source": [
    "even_odd(5)"
   ]
  },
  {
   "cell_type": "code",
   "execution_count": 5,
   "id": "7d24cc26",
   "metadata": {},
   "outputs": [
    {
     "name": "stdout",
     "output_type": "stream",
     "text": [
      "The number is Even\n"
     ]
    }
   ],
   "source": [
    "even_odd(201930)"
   ]
  },
  {
   "cell_type": "code",
   "execution_count": 7,
   "id": "9b99274a",
   "metadata": {},
   "outputs": [
    {
     "ename": "TypeError",
     "evalue": "even_odd() missing 1 required positional argument: 'num'",
     "output_type": "error",
     "traceback": [
      "\u001b[1;31m---------------------------------------------------------------------------\u001b[0m",
      "\u001b[1;31mTypeError\u001b[0m                                 Traceback (most recent call last)",
      "Input \u001b[1;32mIn [7]\u001b[0m, in \u001b[0;36m<cell line: 1>\u001b[1;34m()\u001b[0m\n\u001b[1;32m----> 1\u001b[0m \u001b[43meven_odd\u001b[49m\u001b[43m(\u001b[49m\u001b[43m)\u001b[49m\n",
      "\u001b[1;31mTypeError\u001b[0m: even_odd() missing 1 required positional argument: 'num'"
     ]
    }
   ],
   "source": [
    "even_odd()#positional argument missing"
   ]
  },
  {
   "cell_type": "code",
   "execution_count": 8,
   "id": "9e9ee399",
   "metadata": {},
   "outputs": [],
   "source": [
    "# print vs return\n",
    "def hello_world():\n",
    "    print(\"Hello Welcome\")"
   ]
  },
  {
   "cell_type": "code",
   "execution_count": 9,
   "id": "42c4e603",
   "metadata": {},
   "outputs": [
    {
     "name": "stdout",
     "output_type": "stream",
     "text": [
      "Hello Welcome\n"
     ]
    }
   ],
   "source": [
    "hello_world()"
   ]
  },
  {
   "cell_type": "code",
   "execution_count": 10,
   "id": "aea99dbb",
   "metadata": {},
   "outputs": [
    {
     "name": "stdout",
     "output_type": "stream",
     "text": [
      "Hello Welcome\n"
     ]
    }
   ],
   "source": [
    "a=hello_world()"
   ]
  },
  {
   "cell_type": "code",
   "execution_count": 11,
   "id": "fd814066",
   "metadata": {},
   "outputs": [
    {
     "name": "stdout",
     "output_type": "stream",
     "text": [
      "None\n"
     ]
    }
   ],
   "source": [
    "print(a)"
   ]
  },
  {
   "cell_type": "code",
   "execution_count": 12,
   "id": "a6e62505",
   "metadata": {},
   "outputs": [],
   "source": [
    "def hello_world():\n",
    "    return \"Hello Welcome\""
   ]
  },
  {
   "cell_type": "code",
   "execution_count": 13,
   "id": "26ddb0ea",
   "metadata": {},
   "outputs": [
    {
     "data": {
      "text/plain": [
       "'Hello Welcome'"
      ]
     },
     "execution_count": 13,
     "metadata": {},
     "output_type": "execute_result"
    }
   ],
   "source": [
    "hello_world()"
   ]
  },
  {
   "cell_type": "code",
   "execution_count": 14,
   "id": "7b7c92c1",
   "metadata": {},
   "outputs": [],
   "source": [
    "a=hello_world()"
   ]
  },
  {
   "cell_type": "code",
   "execution_count": 15,
   "id": "13d89ba3",
   "metadata": {},
   "outputs": [
    {
     "name": "stdout",
     "output_type": "stream",
     "text": [
      "Hello Welcome\n"
     ]
    }
   ],
   "source": [
    "print(a)"
   ]
  },
  {
   "cell_type": "code",
   "execution_count": 16,
   "id": "1c9bbd13",
   "metadata": {},
   "outputs": [],
   "source": [
    "def add_num(num1,num2):\n",
    "    return num1+num2"
   ]
  },
  {
   "cell_type": "code",
   "execution_count": 17,
   "id": "30bafb29",
   "metadata": {},
   "outputs": [],
   "source": [
    "val=add_num(23,33)"
   ]
  },
  {
   "cell_type": "code",
   "execution_count": 18,
   "id": "51743c78",
   "metadata": {},
   "outputs": [
    {
     "data": {
      "text/plain": [
       "56"
      ]
     },
     "execution_count": 18,
     "metadata": {},
     "output_type": "execute_result"
    }
   ],
   "source": [
    "val"
   ]
  },
  {
   "cell_type": "code",
   "execution_count": 19,
   "id": "2da62b6a",
   "metadata": {},
   "outputs": [],
   "source": [
    "# Positional and keyword argument"
   ]
  },
  {
   "cell_type": "code",
   "execution_count": 20,
   "id": "c167104b",
   "metadata": {},
   "outputs": [],
   "source": [
    "def hello(name,age=29): # if the default value is assigned then it is called keyword argument , if it is not assigned it is called as positional argument\n",
    "#age=29 is nothing but a key value pair    \n",
    "    print('My name is {} and age is {}'.format(name,age))"
   ]
  },
  {
   "cell_type": "code",
   "execution_count": 21,
   "id": "a7ab9c36",
   "metadata": {},
   "outputs": [
    {
     "name": "stdout",
     "output_type": "stream",
     "text": [
      "My name is Krish and age is 29\n"
     ]
    }
   ],
   "source": [
    "hello('Krish')"
   ]
  },
  {
   "cell_type": "code",
   "execution_count": 22,
   "id": "1cefe147",
   "metadata": {},
   "outputs": [
    {
     "name": "stdout",
     "output_type": "stream",
     "text": [
      "My name is Ananth and age is 28\n"
     ]
    }
   ],
   "source": [
    "hello('Ananth',28)"
   ]
  },
  {
   "cell_type": "code",
   "execution_count": 24,
   "id": "277b601f",
   "metadata": {},
   "outputs": [
    {
     "ename": "TypeError",
     "evalue": "hello() missing 1 required positional argument: 'name'",
     "output_type": "error",
     "traceback": [
      "\u001b[1;31m---------------------------------------------------------------------------\u001b[0m",
      "\u001b[1;31mTypeError\u001b[0m                                 Traceback (most recent call last)",
      "Input \u001b[1;32mIn [24]\u001b[0m, in \u001b[0;36m<cell line: 1>\u001b[1;34m()\u001b[0m\n\u001b[1;32m----> 1\u001b[0m \u001b[43mhello\u001b[49m\u001b[43m(\u001b[49m\u001b[43m)\u001b[49m\n",
      "\u001b[1;31mTypeError\u001b[0m: hello() missing 1 required positional argument: 'name'"
     ]
    }
   ],
   "source": [
    "hello()#missing 1 required positional argument: 'name'"
   ]
  },
  {
   "cell_type": "code",
   "execution_count": 26,
   "id": "c4bcd464",
   "metadata": {},
   "outputs": [],
   "source": [
    "def hello(name,age):#converting keyword argument to positional argument, just removing the 29 value in age   \n",
    "    print('My name is {} and age is {}'.format(name,age))"
   ]
  },
  {
   "cell_type": "code",
   "execution_count": 27,
   "id": "65d09ffa",
   "metadata": {},
   "outputs": [
    {
     "ename": "TypeError",
     "evalue": "hello() missing 1 required positional argument: 'age'",
     "output_type": "error",
     "traceback": [
      "\u001b[1;31m---------------------------------------------------------------------------\u001b[0m",
      "\u001b[1;31mTypeError\u001b[0m                                 Traceback (most recent call last)",
      "Input \u001b[1;32mIn [27]\u001b[0m, in \u001b[0;36m<cell line: 1>\u001b[1;34m()\u001b[0m\n\u001b[1;32m----> 1\u001b[0m \u001b[43mhello\u001b[49m\u001b[43m(\u001b[49m\u001b[38;5;124;43m'\u001b[39;49m\u001b[38;5;124;43mKrish\u001b[39;49m\u001b[38;5;124;43m'\u001b[39;49m\u001b[43m)\u001b[49m\n",
      "\u001b[1;31mTypeError\u001b[0m: hello() missing 1 required positional argument: 'age'"
     ]
    }
   ],
   "source": [
    "hello('Krish')"
   ]
  },
  {
   "cell_type": "code",
   "execution_count": 28,
   "id": "b8d98a15",
   "metadata": {},
   "outputs": [],
   "source": [
    "def hello(*args,**kwargs):\n",
    "    print(args)\n",
    "    print(kwargs)"
   ]
  },
  {
   "cell_type": "code",
   "execution_count": 29,
   "id": "cc57c654",
   "metadata": {},
   "outputs": [
    {
     "name": "stdout",
     "output_type": "stream",
     "text": [
      "('Ananth', 'Kumar')\n",
      "{'Age': 29, 'dob': 1999}\n"
     ]
    }
   ],
   "source": [
    "hello('Ananth','Kumar',Age=29,dob=1999)"
   ]
  },
  {
   "cell_type": "code",
   "execution_count": 30,
   "id": "94ddc01f",
   "metadata": {},
   "outputs": [],
   "source": [
    "lst=['Ananth', 'Kumar']\n",
    "dict_args={'Age': 29, 'dob': 1999}"
   ]
  },
  {
   "cell_type": "code",
   "execution_count": 32,
   "id": "6ecab578",
   "metadata": {},
   "outputs": [
    {
     "name": "stdout",
     "output_type": "stream",
     "text": [
      "(['Ananth', 'Kumar'], {'Age': 29, 'dob': 1999})\n",
      "{}\n"
     ]
    }
   ],
   "source": [
    "hello(lst,dict_args) # By default it is taking both as positional arguments"
   ]
  },
  {
   "cell_type": "code",
   "execution_count": 33,
   "id": "48999733",
   "metadata": {},
   "outputs": [
    {
     "name": "stdout",
     "output_type": "stream",
     "text": [
      "('Ananth', 'Kumar')\n",
      "{'Age': 29, 'dob': 1999}\n"
     ]
    }
   ],
   "source": [
    "hello(*lst,**dict_args) "
   ]
  },
  {
   "cell_type": "code",
   "execution_count": 34,
   "id": "85610ae7",
   "metadata": {},
   "outputs": [],
   "source": [
    "#returning two differnt values\n",
    "lst=[1,2,3,4,5,6,7]"
   ]
  },
  {
   "cell_type": "code",
   "execution_count": 38,
   "id": "5b39efae",
   "metadata": {},
   "outputs": [],
   "source": [
    "def eveoddsumm(lst):\n",
    "    even_sum=0\n",
    "    odd_sum=0\n",
    "    for i in lst:\n",
    "        if i%2==0:\n",
    "            even_sum=even_sum+i\n",
    "        else:\n",
    "            odd_sum=odd_sum+i\n",
    "    return even_sum,odd_sum"
   ]
  },
  {
   "cell_type": "code",
   "execution_count": 39,
   "id": "d0a90bde",
   "metadata": {},
   "outputs": [
    {
     "data": {
      "text/plain": [
       "(12, 16)"
      ]
     },
     "execution_count": 39,
     "metadata": {},
     "output_type": "execute_result"
    }
   ],
   "source": [
    "eveoddsumm(lst)"
   ]
  },
  {
   "cell_type": "code",
   "execution_count": null,
   "id": "dd9f3a44",
   "metadata": {},
   "outputs": [],
   "source": []
  }
 ],
 "metadata": {
  "kernelspec": {
   "display_name": "Python 3 (ipykernel)",
   "language": "python",
   "name": "python3"
  },
  "language_info": {
   "codemirror_mode": {
    "name": "ipython",
    "version": 3
   },
   "file_extension": ".py",
   "mimetype": "text/x-python",
   "name": "python",
   "nbconvert_exporter": "python",
   "pygments_lexer": "ipython3",
   "version": "3.9.12"
  }
 },
 "nbformat": 4,
 "nbformat_minor": 5
}
