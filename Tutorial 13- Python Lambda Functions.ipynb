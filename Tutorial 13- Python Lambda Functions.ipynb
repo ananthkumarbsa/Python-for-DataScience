{
 "cells": [
  {
   "cell_type": "markdown",
   "id": "9c7c1cbe",
   "metadata": {},
   "source": [
    "# Lambda Functions\n",
    "\n",
    "Anonymous function\n",
    "\n",
    "A Function with no name\n",
    "\n",
    "it will be useful when you have a single line of expression "
   ]
  },
  {
   "cell_type": "code",
   "execution_count": 1,
   "id": "9c2e91c8",
   "metadata": {},
   "outputs": [],
   "source": [
    "def addition(a,b):\n",
    "    return a+b"
   ]
  },
  {
   "cell_type": "code",
   "execution_count": 2,
   "id": "1c0e6ff1",
   "metadata": {},
   "outputs": [
    {
     "data": {
      "text/plain": [
       "5"
      ]
     },
     "execution_count": 2,
     "metadata": {},
     "output_type": "execute_result"
    }
   ],
   "source": [
    "addition(2,3)"
   ]
  },
  {
   "cell_type": "code",
   "execution_count": 5,
   "id": "7332a429",
   "metadata": {},
   "outputs": [],
   "source": [
    "add1=lambda a,b:a+b\n",
    "#lambda (input variables):(expression)"
   ]
  },
  {
   "cell_type": "code",
   "execution_count": 4,
   "id": "ee10f301",
   "metadata": {},
   "outputs": [
    {
     "data": {
      "text/plain": [
       "6"
      ]
     },
     "execution_count": 4,
     "metadata": {},
     "output_type": "execute_result"
    }
   ],
   "source": [
    "add1(3,3)"
   ]
  },
  {
   "cell_type": "code",
   "execution_count": 6,
   "id": "6a8001b9",
   "metadata": {},
   "outputs": [],
   "source": [
    "def evenodd(num):\n",
    "    if num%2==0:\n",
    "        return True"
   ]
  },
  {
   "cell_type": "code",
   "execution_count": 7,
   "id": "6bc1f9e3",
   "metadata": {},
   "outputs": [
    {
     "data": {
      "text/plain": [
       "True"
      ]
     },
     "execution_count": 7,
     "metadata": {},
     "output_type": "execute_result"
    }
   ],
   "source": [
    "evenodd(2220)"
   ]
  },
  {
   "cell_type": "code",
   "execution_count": 9,
   "id": "ce5cb75d",
   "metadata": {},
   "outputs": [],
   "source": [
    "evenodd1=lambda num:num%2==0"
   ]
  },
  {
   "cell_type": "code",
   "execution_count": 10,
   "id": "a94745f7",
   "metadata": {},
   "outputs": [
    {
     "data": {
      "text/plain": [
       "False"
      ]
     },
     "execution_count": 10,
     "metadata": {},
     "output_type": "execute_result"
    }
   ],
   "source": [
    "evenodd1(9)"
   ]
  },
  {
   "cell_type": "code",
   "execution_count": 12,
   "id": "52c16f5d",
   "metadata": {},
   "outputs": [
    {
     "ename": "SyntaxError",
     "evalue": "invalid syntax (896530321.py, line 1)",
     "output_type": "error",
     "traceback": [
      "\u001b[1;36m  Input \u001b[1;32mIn [12]\u001b[1;36m\u001b[0m\n\u001b[1;33m    evenodd1=lambda num:if num%2==0 print('even') else print('odd')\u001b[0m\n\u001b[1;37m                        ^\u001b[0m\n\u001b[1;31mSyntaxError\u001b[0m\u001b[1;31m:\u001b[0m invalid syntax\n"
     ]
    }
   ],
   "source": [
    "evenodd1=lambda num:if num%2==0 print('even') else print('odd')"
   ]
  },
  {
   "cell_type": "code",
   "execution_count": 13,
   "id": "01c76432",
   "metadata": {},
   "outputs": [],
   "source": [
    "def addnew(a,b,c):\n",
    "    return a+b+c"
   ]
  },
  {
   "cell_type": "code",
   "execution_count": 14,
   "id": "64c25c02",
   "metadata": {},
   "outputs": [
    {
     "data": {
      "text/plain": [
       "6"
      ]
     },
     "execution_count": 14,
     "metadata": {},
     "output_type": "execute_result"
    }
   ],
   "source": [
    "addnew(1,2,3)"
   ]
  },
  {
   "cell_type": "code",
   "execution_count": 15,
   "id": "7c81e09e",
   "metadata": {},
   "outputs": [],
   "source": [
    "addnew1 = lambda x,y,z:x+y+z"
   ]
  },
  {
   "cell_type": "code",
   "execution_count": 16,
   "id": "d3b2e647",
   "metadata": {},
   "outputs": [
    {
     "data": {
      "text/plain": [
       "7"
      ]
     },
     "execution_count": 16,
     "metadata": {},
     "output_type": "execute_result"
    }
   ],
   "source": [
    "addnew1(2,2,3)"
   ]
  },
  {
   "cell_type": "code",
   "execution_count": null,
   "id": "39bc5a4f",
   "metadata": {},
   "outputs": [],
   "source": []
  }
 ],
 "metadata": {
  "kernelspec": {
   "display_name": "Python 3 (ipykernel)",
   "language": "python",
   "name": "python3"
  },
  "language_info": {
   "codemirror_mode": {
    "name": "ipython",
    "version": 3
   },
   "file_extension": ".py",
   "mimetype": "text/x-python",
   "name": "python",
   "nbconvert_exporter": "python",
   "pygments_lexer": "ipython3",
   "version": "3.9.12"
  }
 },
 "nbformat": 4,
 "nbformat_minor": 5
}
